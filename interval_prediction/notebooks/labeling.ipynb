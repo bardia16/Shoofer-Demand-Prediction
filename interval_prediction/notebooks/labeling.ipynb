{
 "cells": [
  {
   "cell_type": "markdown",
   "metadata": {},
   "source": [
    "# Imports"
   ]
  },
  {
   "cell_type": "code",
   "execution_count": 1,
   "metadata": {},
   "outputs": [],
   "source": [
    "import datetime\n",
    "import numpy as np\n",
    "import pandas as pd"
   ]
  },
  {
   "cell_type": "markdown",
   "metadata": {},
   "source": [
    "# Config"
   ]
  },
  {
   "cell_type": "code",
   "execution_count": 2,
   "metadata": {},
   "outputs": [],
   "source": [
    "INPUT_PATH = '/Users/maedeh/Desktop/demand_project/demand_project/shoofer-demand-prediction/ride_data'\n",
    "OUTPUT_PATH = '/Users/maedeh/Desktop/demand_project/demand_project/shoofer-demand-prediction/data/labels_phase2.parquet'\n",
    "START_DATE = '2023-01-01'\n",
    "END_DATE = '2023-04-30'"
   ]
  },
  {
   "cell_type": "markdown",
   "metadata": {},
   "source": [
    "# Loading Dataset"
   ]
  },
  {
   "cell_type": "code",
   "execution_count": 3,
   "metadata": {},
   "outputs": [],
   "source": [
    "def load_data(path, start_date: str, end_date: str):\n",
    "    df = pd.read_parquet(path) \n",
    "    start_date = datetime.date.fromisoformat(start_date)\n",
    "    end_date = datetime.date.fromisoformat(end_date)\n",
    "    filtered_df = df[(df['tpep_pickup_datetime'].dt.date >= start_date) &\n",
    "                     (df['tpep_pickup_datetime'].dt.date <= end_date)]\n",
    "    dataset = filtered_df.filter(items=['tpep_pickup_datetime', 'PULocationID'])\n",
    "    dataset['PU_date'] = pd.to_datetime(dataset['tpep_pickup_datetime'].dt.date)\n",
    "    return dataset"
   ]
  },
  {
   "cell_type": "code",
   "execution_count": 4,
   "metadata": {},
   "outputs": [
    {
     "name": "stdout",
     "output_type": "stream",
     "text": [
      "rides_df shape : (12672629, 3)\n"
     ]
    },
    {
     "data": {
      "text/html": [
       "<div>\n",
       "<style scoped>\n",
       "    .dataframe tbody tr th:only-of-type {\n",
       "        vertical-align: middle;\n",
       "    }\n",
       "\n",
       "    .dataframe tbody tr th {\n",
       "        vertical-align: top;\n",
       "    }\n",
       "\n",
       "    .dataframe thead th {\n",
       "        text-align: right;\n",
       "    }\n",
       "</style>\n",
       "<table border=\"1\" class=\"dataframe\">\n",
       "  <thead>\n",
       "    <tr style=\"text-align: right;\">\n",
       "      <th></th>\n",
       "      <th>tpep_pickup_datetime</th>\n",
       "      <th>PULocationID</th>\n",
       "      <th>PU_date</th>\n",
       "    </tr>\n",
       "  </thead>\n",
       "  <tbody>\n",
       "    <tr>\n",
       "      <th>0</th>\n",
       "      <td>2023-01-01 00:32:10</td>\n",
       "      <td>161</td>\n",
       "      <td>2023-01-01</td>\n",
       "    </tr>\n",
       "    <tr>\n",
       "      <th>1</th>\n",
       "      <td>2023-01-01 00:55:08</td>\n",
       "      <td>43</td>\n",
       "      <td>2023-01-01</td>\n",
       "    </tr>\n",
       "    <tr>\n",
       "      <th>2</th>\n",
       "      <td>2023-01-01 00:25:04</td>\n",
       "      <td>48</td>\n",
       "      <td>2023-01-01</td>\n",
       "    </tr>\n",
       "    <tr>\n",
       "      <th>3</th>\n",
       "      <td>2023-01-01 00:03:48</td>\n",
       "      <td>138</td>\n",
       "      <td>2023-01-01</td>\n",
       "    </tr>\n",
       "    <tr>\n",
       "      <th>4</th>\n",
       "      <td>2023-01-01 00:10:29</td>\n",
       "      <td>107</td>\n",
       "      <td>2023-01-01</td>\n",
       "    </tr>\n",
       "  </tbody>\n",
       "</table>\n",
       "</div>"
      ],
      "text/plain": [
       "  tpep_pickup_datetime  PULocationID    PU_date\n",
       "0  2023-01-01 00:32:10           161 2023-01-01\n",
       "1  2023-01-01 00:55:08            43 2023-01-01\n",
       "2  2023-01-01 00:25:04            48 2023-01-01\n",
       "3  2023-01-01 00:03:48           138 2023-01-01\n",
       "4  2023-01-01 00:10:29           107 2023-01-01"
      ]
     },
     "execution_count": 4,
     "metadata": {},
     "output_type": "execute_result"
    }
   ],
   "source": [
    "rides_df = load_data(INPUT_PATH, START_DATE, END_DATE)\n",
    "print(f'rides_df shape : {rides_df.shape}')\n",
    "rides_df.head()"
   ]
  },
  {
   "cell_type": "markdown",
   "metadata": {},
   "source": [
    "# Labeling"
   ]
  },
  {
   "cell_type": "code",
   "execution_count": 5,
   "metadata": {},
   "outputs": [],
   "source": [
    "def labeling(dataset):\n",
    "    dataset=rides_df\n",
    "    dataset_labels = (\n",
    "        dataset\n",
    "        .groupby([dataset.PU_date.dt.date,(dataset.tpep_pickup_datetime.dt.hour//3)*3,'PULocationID'])['PULocationID']\n",
    "        .count()\n",
    "        .to_frame('Demand')\n",
    "        .sort_values(['PULocationID','PU_date','tpep_pickup_datetime'])\n",
    "        .reset_index()\n",
    "        .rename(columns={'PULocationID': 'Location', 'PU_date': 'Date', 'tpep_pickup_datetime': 'Hour_interval'})\n",
    "    )\n",
    "    \n",
    "    \n",
    "    locations = pd.DataFrame(dataset_labels['Location'].unique(), columns=['Location'])\n",
    "    dates = pd.DataFrame(dataset_labels['Date'].unique(), columns=['Date'])\n",
    "    hour = pd.DataFrame(dataset_labels['Hour_interval'].unique(), columns=['Hour_interval'])\\\n",
    "        .sort_values('Hour_interval').reset_index(drop=True)\n",
    "    \n",
    "    \n",
    "    location_date_df = (\n",
    "        locations\n",
    "        .merge(dates, how='cross')\n",
    "        .sort_values(['Location', 'Date'])\n",
    "        .reset_index(drop=True)\n",
    "    )\n",
    "    \n",
    "    \n",
    "    location_date_hour_df = (\n",
    "        location_date_df\n",
    "        .merge(hour, how='cross')\n",
    "        .sort_values(['Location', 'Date', 'Hour_interval'])\n",
    "        .reset_index(drop=True)\n",
    "    )\n",
    "    \n",
    "    labels_df = (\n",
    "        location_date_hour_df\n",
    "        .merge(dataset_labels, how='left', on=['Location', 'Date', 'Hour_interval'])\n",
    "        .fillna(value=0)\n",
    "    )\n",
    "    \n",
    "    labels_df['Date'] = pd.to_datetime(labels_df['Date'])\n",
    "\n",
    "    return labels_df"
   ]
  },
  {
   "cell_type": "code",
   "execution_count": 6,
   "metadata": {},
   "outputs": [
    {
     "name": "stdout",
     "output_type": "stream",
     "text": [
      "labels_df shape : (251520, 4)\n"
     ]
    },
    {
     "data": {
      "text/html": [
       "<div>\n",
       "<style scoped>\n",
       "    .dataframe tbody tr th:only-of-type {\n",
       "        vertical-align: middle;\n",
       "    }\n",
       "\n",
       "    .dataframe tbody tr th {\n",
       "        vertical-align: top;\n",
       "    }\n",
       "\n",
       "    .dataframe thead th {\n",
       "        text-align: right;\n",
       "    }\n",
       "</style>\n",
       "<table border=\"1\" class=\"dataframe\">\n",
       "  <thead>\n",
       "    <tr style=\"text-align: right;\">\n",
       "      <th></th>\n",
       "      <th>Location</th>\n",
       "      <th>Date</th>\n",
       "      <th>Hour_interval</th>\n",
       "      <th>Demand</th>\n",
       "    </tr>\n",
       "  </thead>\n",
       "  <tbody>\n",
       "    <tr>\n",
       "      <th>0</th>\n",
       "      <td>1</td>\n",
       "      <td>2023-01-01</td>\n",
       "      <td>0</td>\n",
       "      <td>0.0</td>\n",
       "    </tr>\n",
       "    <tr>\n",
       "      <th>1</th>\n",
       "      <td>1</td>\n",
       "      <td>2023-01-01</td>\n",
       "      <td>3</td>\n",
       "      <td>1.0</td>\n",
       "    </tr>\n",
       "    <tr>\n",
       "      <th>2</th>\n",
       "      <td>1</td>\n",
       "      <td>2023-01-01</td>\n",
       "      <td>6</td>\n",
       "      <td>1.0</td>\n",
       "    </tr>\n",
       "    <tr>\n",
       "      <th>3</th>\n",
       "      <td>1</td>\n",
       "      <td>2023-01-01</td>\n",
       "      <td>9</td>\n",
       "      <td>1.0</td>\n",
       "    </tr>\n",
       "    <tr>\n",
       "      <th>4</th>\n",
       "      <td>1</td>\n",
       "      <td>2023-01-01</td>\n",
       "      <td>12</td>\n",
       "      <td>13.0</td>\n",
       "    </tr>\n",
       "  </tbody>\n",
       "</table>\n",
       "</div>"
      ],
      "text/plain": [
       "   Location       Date  Hour_interval  Demand\n",
       "0         1 2023-01-01              0     0.0\n",
       "1         1 2023-01-01              3     1.0\n",
       "2         1 2023-01-01              6     1.0\n",
       "3         1 2023-01-01              9     1.0\n",
       "4         1 2023-01-01             12    13.0"
      ]
     },
     "execution_count": 6,
     "metadata": {},
     "output_type": "execute_result"
    }
   ],
   "source": [
    "labels_df = labeling(rides_df)\n",
    "print(f'labels_df shape : {labels_df.shape}')\n",
    "labels_df.head()"
   ]
  },
  {
   "cell_type": "markdown",
   "metadata": {},
   "source": [
    "# File saving"
   ]
  },
  {
   "cell_type": "code",
   "execution_count": 7,
   "metadata": {},
   "outputs": [],
   "source": [
    "def save_labels(dataset, path):\n",
    "    labels_df = dataset.to_parquet(path, index=False)"
   ]
  },
  {
   "cell_type": "code",
   "execution_count": 8,
   "metadata": {},
   "outputs": [],
   "source": [
    "save_labels(labels_df, OUTPUT_PATH)"
   ]
  },
  {
   "cell_type": "code",
   "execution_count": null,
   "metadata": {},
   "outputs": [],
   "source": []
  }
 ],
 "metadata": {
  "kernelspec": {
   "display_name": "Python 3 (ipykernel)",
   "language": "python",
   "name": "python3"
  },
  "language_info": {
   "codemirror_mode": {
    "name": "ipython",
    "version": 3
   },
   "file_extension": ".py",
   "mimetype": "text/x-python",
   "name": "python",
   "nbconvert_exporter": "python",
   "pygments_lexer": "ipython3",
   "version": "3.10.11"
  }
 },
 "nbformat": 4,
 "nbformat_minor": 4
}
