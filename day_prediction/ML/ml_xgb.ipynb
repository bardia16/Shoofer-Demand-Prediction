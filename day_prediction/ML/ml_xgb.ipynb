{
  "cells": [
    {
      "cell_type": "markdown",
      "metadata": {
        "id": "8UTIGpTZZlOO"
      },
      "source": [
        "# Imports"
      ]
    },
    {
      "cell_type": "code",
      "execution_count": 1,
      "metadata": {
        "id": "AnwSHO1L97I5"
      },
      "outputs": [],
      "source": [
        "import datetime\n",
        "import matplotlib.pyplot as plt\n",
        "import numpy as np\n",
        "import pandas as pd\n",
        "import xgboost as xgb\n",
        "import geopandas as gpd\n",
        "\n",
        "from sklearn.ensemble import RandomForestRegressor\n",
        "from sklearn.metrics import mean_absolute_error, mean_squared_error, mean_absolute_percentage_error\n",
        "from sklearn.model_selection import GridSearchCV\n",
        "from sklearn.preprocessing import LabelEncoder\n",
        "from sklearn.cluster import AgglomerativeClustering\n",
        "from itertools import product"
      ]
    },
    {
      "cell_type": "markdown",
      "metadata": {
        "id": "pSSMa3G2wGmF"
      },
      "source": [
        "# Configs"
      ]
    },
    {
      "cell_type": "code",
      "execution_count": 2,
      "metadata": {
        "id": "zIkDLK9zwGmG"
      },
      "outputs": [],
      "source": [
        "INPUT_PATH = 'datasets/'\n",
        "OUTPUT_PATH = 'results/xgb_predictions.parquet'\n",
        "\n",
        "RIDGE_TEST_PATH = 'results/ridge_test_predictions.parquet'\n",
        "RIDGE_TRAIN_PATH = 'results/ridge_train_predictions.parquet'\n",
        "\n",
        "START_DATE = '2023-01-01'\n",
        "END_DATE = '2023-04-30'\n",
        "\n",
        "FEATURE_LIST = [\n",
        "                'Ridge_predict',\n",
        "\n",
        "                'Previous_week_max_demand',\n",
        "                'Previous_2week_max_demand',\n",
        "\n",
        "                'Previous_2week_demand',\n",
        "                'Previous_week_demand', \n",
        "\n",
        "                'Previous_week_group_max_demand',\n",
        "                'Previous_week_group_min_demand',\n",
        "                'Previous_week_group_mean_demand',\n",
        "\n",
        "                'Previous_day_demand',\n",
        "                'Previous_2day_demand',\n",
        "                'Previous_3day_demand',\n",
        "                'Previous_4day_demand',\n",
        "                'Previous_5day_demand',\n",
        "                'Previous_6day_demand',\n",
        "                'Previous_8day_demand',\n",
        "                'Previous_9day_demand',\n",
        "                'Previous_10day_demand',\n",
        "                'Previous_11day_demand',\n",
        "                'Previous_12day_demand',\n",
        "                'Previous_13day_demand',\n",
        "\n",
        "                #  'Day_of_month', \n",
        "                #  'Day_of_week',\n",
        "                ]\n",
        "\n",
        "TEST_START_DATE = '2023-04-01'\n",
        "VALIDATION_START_DATE = '2023-03-21'\n",
        "\n",
        "GROUP_NUM = 3\n",
        "AUTO_TUNE = False"
      ]
    },
    {
      "cell_type": "markdown",
      "metadata": {
        "id": "5eS5BQE9wGmK"
      },
      "source": [
        "# Data preparation\n"
      ]
    },
    {
      "cell_type": "markdown",
      "metadata": {
        "id": "TWsjXbpaznc_"
      },
      "source": [
        "## Load Data"
      ]
    },
    {
      "cell_type": "code",
      "execution_count": 3,
      "metadata": {
        "id": "HAyNjqxNwGmH"
      },
      "outputs": [],
      "source": [
        "def load_data(path, start_date: str, end_date: str):\n",
        "    df = pd.read_parquet(path)\n",
        "    start_date = datetime.date.fromisoformat(start_date)\n",
        "    end_date = datetime.date.fromisoformat(end_date)\n",
        "    filtered_df = df[(df['tpep_pickup_datetime'].dt.date >= start_date) &\n",
        "                     (df['tpep_pickup_datetime'].dt.date <= end_date)]\n",
        "    dataset = filtered_df.filter(items=['tpep_pickup_datetime', 'PULocationID'])\n",
        "    dataset['PU_date'] = pd.to_datetime(dataset['tpep_pickup_datetime'].dt.date)\n",
        "    return dataset"
      ]
    },
    {
      "cell_type": "code",
      "execution_count": 4,
      "metadata": {
        "id": "87BFHUu1-z73"
      },
      "outputs": [],
      "source": [
        "rides_df = load_data(INPUT_PATH, START_DATE, END_DATE)"
      ]
    },
    {
      "cell_type": "code",
      "execution_count": 5,
      "metadata": {
        "id": "hCN-11QT3bp1"
      },
      "outputs": [
        {
          "name": "stdout",
          "output_type": "stream",
          "text": [
            "rides dataframe shape : (12672629, 3)\n"
          ]
        },
        {
          "data": {
            "text/html": [
              "<div>\n",
              "<style scoped>\n",
              "    .dataframe tbody tr th:only-of-type {\n",
              "        vertical-align: middle;\n",
              "    }\n",
              "\n",
              "    .dataframe tbody tr th {\n",
              "        vertical-align: top;\n",
              "    }\n",
              "\n",
              "    .dataframe thead th {\n",
              "        text-align: right;\n",
              "    }\n",
              "</style>\n",
              "<table border=\"1\" class=\"dataframe\">\n",
              "  <thead>\n",
              "    <tr style=\"text-align: right;\">\n",
              "      <th></th>\n",
              "      <th>tpep_pickup_datetime</th>\n",
              "      <th>PULocationID</th>\n",
              "      <th>PU_date</th>\n",
              "    </tr>\n",
              "  </thead>\n",
              "  <tbody>\n",
              "    <tr>\n",
              "      <th>0</th>\n",
              "      <td>2023-01-01 00:32:10</td>\n",
              "      <td>161</td>\n",
              "      <td>2023-01-01</td>\n",
              "    </tr>\n",
              "    <tr>\n",
              "      <th>1</th>\n",
              "      <td>2023-01-01 00:55:08</td>\n",
              "      <td>43</td>\n",
              "      <td>2023-01-01</td>\n",
              "    </tr>\n",
              "    <tr>\n",
              "      <th>2</th>\n",
              "      <td>2023-01-01 00:25:04</td>\n",
              "      <td>48</td>\n",
              "      <td>2023-01-01</td>\n",
              "    </tr>\n",
              "    <tr>\n",
              "      <th>3</th>\n",
              "      <td>2023-01-01 00:03:48</td>\n",
              "      <td>138</td>\n",
              "      <td>2023-01-01</td>\n",
              "    </tr>\n",
              "    <tr>\n",
              "      <th>4</th>\n",
              "      <td>2023-01-01 00:10:29</td>\n",
              "      <td>107</td>\n",
              "      <td>2023-01-01</td>\n",
              "    </tr>\n",
              "  </tbody>\n",
              "</table>\n",
              "</div>"
            ],
            "text/plain": [
              "  tpep_pickup_datetime  PULocationID    PU_date\n",
              "0  2023-01-01 00:32:10           161 2023-01-01\n",
              "1  2023-01-01 00:55:08            43 2023-01-01\n",
              "2  2023-01-01 00:25:04            48 2023-01-01\n",
              "3  2023-01-01 00:03:48           138 2023-01-01\n",
              "4  2023-01-01 00:10:29           107 2023-01-01"
            ]
          },
          "execution_count": 5,
          "metadata": {},
          "output_type": "execute_result"
        }
      ],
      "source": [
        "print(f'rides dataframe shape : {rides_df.shape}')\n",
        "rides_df.head()"
      ]
    },
    {
      "cell_type": "code",
      "execution_count": 6,
      "metadata": {},
      "outputs": [],
      "source": [
        "ridge_train_df = pd.read_parquet(RIDGE_TRAIN_PATH)\n",
        "ridge_test_df = pd.read_parquet(RIDGE_TEST_PATH)\n",
        "ridge_df = pd.concat([ridge_train_df, ridge_test_df], axis = 0)"
      ]
    },
    {
      "cell_type": "code",
      "execution_count": 7,
      "metadata": {},
      "outputs": [
        {
          "name": "stdout",
          "output_type": "stream",
          "text": [
            "ridge dataframe shape : (27772, 3)\n"
          ]
        },
        {
          "data": {
            "text/html": [
              "<div>\n",
              "<style scoped>\n",
              "    .dataframe tbody tr th:only-of-type {\n",
              "        vertical-align: middle;\n",
              "    }\n",
              "\n",
              "    .dataframe tbody tr th {\n",
              "        vertical-align: top;\n",
              "    }\n",
              "\n",
              "    .dataframe thead th {\n",
              "        text-align: right;\n",
              "    }\n",
              "</style>\n",
              "<table border=\"1\" class=\"dataframe\">\n",
              "  <thead>\n",
              "    <tr style=\"text-align: right;\">\n",
              "      <th></th>\n",
              "      <th>Location</th>\n",
              "      <th>Date</th>\n",
              "      <th>Predicted_demand</th>\n",
              "    </tr>\n",
              "  </thead>\n",
              "  <tbody>\n",
              "    <tr>\n",
              "      <th>0</th>\n",
              "      <td>1</td>\n",
              "      <td>2023-01-15</td>\n",
              "      <td>20.237013</td>\n",
              "    </tr>\n",
              "    <tr>\n",
              "      <th>1</th>\n",
              "      <td>1</td>\n",
              "      <td>2023-01-16</td>\n",
              "      <td>23.753488</td>\n",
              "    </tr>\n",
              "    <tr>\n",
              "      <th>2</th>\n",
              "      <td>1</td>\n",
              "      <td>2023-01-17</td>\n",
              "      <td>16.325936</td>\n",
              "    </tr>\n",
              "    <tr>\n",
              "      <th>3</th>\n",
              "      <td>1</td>\n",
              "      <td>2023-01-18</td>\n",
              "      <td>13.698380</td>\n",
              "    </tr>\n",
              "    <tr>\n",
              "      <th>4</th>\n",
              "      <td>1</td>\n",
              "      <td>2023-01-19</td>\n",
              "      <td>13.702708</td>\n",
              "    </tr>\n",
              "  </tbody>\n",
              "</table>\n",
              "</div>"
            ],
            "text/plain": [
              "   Location       Date  Predicted_demand\n",
              "0         1 2023-01-15         20.237013\n",
              "1         1 2023-01-16         23.753488\n",
              "2         1 2023-01-17         16.325936\n",
              "3         1 2023-01-18         13.698380\n",
              "4         1 2023-01-19         13.702708"
            ]
          },
          "execution_count": 7,
          "metadata": {},
          "output_type": "execute_result"
        }
      ],
      "source": [
        "print(f'ridge dataframe shape : {ridge_df.shape}')\n",
        "ridge_df.head()"
      ]
    },
    {
      "cell_type": "code",
      "execution_count": 8,
      "metadata": {},
      "outputs": [],
      "source": [
        "regions_df = gpd.read_file('taxi_zones/taxi_zones.shp')\n",
        "regions_df = regions_df.rename(columns = {'LocationID' : 'Location'})"
      ]
    },
    {
      "cell_type": "markdown",
      "metadata": {
        "id": "X2ES_CY6-fb5"
      },
      "source": [
        "## Labeling"
      ]
    },
    {
      "cell_type": "code",
      "execution_count": 9,
      "metadata": {
        "id": "a7mNMQ-zwGmH"
      },
      "outputs": [],
      "source": [
        "def labeling(dataset, zones):\n",
        "    dataset_labels = (\n",
        "        dataset\n",
        "        .groupby(['PULocationID', 'PU_date'])['PU_date']\n",
        "        .count()\n",
        "        .to_frame('Demand')\n",
        "        .sort_values(['PULocationID', 'PU_date'], ascending=[True, True])\n",
        "        .reset_index()\n",
        "        .rename(columns={'PULocationID': 'Location', 'PU_date': 'Date'})\n",
        "    )\n",
        "\n",
        "    locations = pd.DataFrame(dataset_labels['Location'].unique(), columns=['Location'])\n",
        "    dates = pd.DataFrame(dataset_labels['Date'].unique(), columns=['Date'])\n",
        "\n",
        "    location_date_df = (\n",
        "        locations\n",
        "        .merge(dates, how='cross')\n",
        "        .sort_values(['Location', 'Date'], ascending=[True, True])\n",
        "        .reset_index(drop=True)\n",
        "    )\n",
        "\n",
        "    labels_df = (\n",
        "        location_date_df\n",
        "        .merge(dataset_labels, how='left', on=['Location', 'Date'])\n",
        "        .fillna(value=0)\n",
        "    )\n",
        "    return labels_df\n"
      ]
    },
    {
      "cell_type": "code",
      "execution_count": 10,
      "metadata": {},
      "outputs": [],
      "source": [
        "regions_df['borough'] = LabelEncoder().fit_transform(regions_df[['borough', 'Location']]['borough'])"
      ]
    },
    {
      "cell_type": "code",
      "execution_count": 11,
      "metadata": {
        "id": "VVRLakW_LeGp"
      },
      "outputs": [],
      "source": [
        "labeled_df = labeling(rides_df, regions_df[['borough', 'Location']])"
      ]
    },
    {
      "cell_type": "code",
      "execution_count": 12,
      "metadata": {
        "id": "0Gm5j5em28Xy"
      },
      "outputs": [
        {
          "name": "stdout",
          "output_type": "stream",
          "text": [
            "labeled dataframe shape : (31440, 3)\n"
          ]
        },
        {
          "data": {
            "text/html": [
              "<div>\n",
              "<style scoped>\n",
              "    .dataframe tbody tr th:only-of-type {\n",
              "        vertical-align: middle;\n",
              "    }\n",
              "\n",
              "    .dataframe tbody tr th {\n",
              "        vertical-align: top;\n",
              "    }\n",
              "\n",
              "    .dataframe thead th {\n",
              "        text-align: right;\n",
              "    }\n",
              "</style>\n",
              "<table border=\"1\" class=\"dataframe\">\n",
              "  <thead>\n",
              "    <tr style=\"text-align: right;\">\n",
              "      <th></th>\n",
              "      <th>Location</th>\n",
              "      <th>Date</th>\n",
              "      <th>Demand</th>\n",
              "    </tr>\n",
              "  </thead>\n",
              "  <tbody>\n",
              "    <tr>\n",
              "      <th>0</th>\n",
              "      <td>1</td>\n",
              "      <td>2023-01-01</td>\n",
              "      <td>40.0</td>\n",
              "    </tr>\n",
              "    <tr>\n",
              "      <th>1</th>\n",
              "      <td>1</td>\n",
              "      <td>2023-01-02</td>\n",
              "      <td>31.0</td>\n",
              "    </tr>\n",
              "    <tr>\n",
              "      <th>2</th>\n",
              "      <td>1</td>\n",
              "      <td>2023-01-03</td>\n",
              "      <td>27.0</td>\n",
              "    </tr>\n",
              "    <tr>\n",
              "      <th>3</th>\n",
              "      <td>1</td>\n",
              "      <td>2023-01-04</td>\n",
              "      <td>7.0</td>\n",
              "    </tr>\n",
              "    <tr>\n",
              "      <th>4</th>\n",
              "      <td>1</td>\n",
              "      <td>2023-01-05</td>\n",
              "      <td>15.0</td>\n",
              "    </tr>\n",
              "  </tbody>\n",
              "</table>\n",
              "</div>"
            ],
            "text/plain": [
              "   Location       Date  Demand\n",
              "0         1 2023-01-01    40.0\n",
              "1         1 2023-01-02    31.0\n",
              "2         1 2023-01-03    27.0\n",
              "3         1 2023-01-04     7.0\n",
              "4         1 2023-01-05    15.0"
            ]
          },
          "execution_count": 12,
          "metadata": {},
          "output_type": "execute_result"
        }
      ],
      "source": [
        "print(f'labeled dataframe shape : {labeled_df.shape}')\n",
        "labeled_df.head()"
      ]
    },
    {
      "cell_type": "code",
      "execution_count": 13,
      "metadata": {},
      "outputs": [],
      "source": [
        "labeled_df.to_parquet('labels.parquet')"
      ]
    },
    {
      "cell_type": "markdown",
      "metadata": {},
      "source": [
        "## Grouping Locations"
      ]
    },
    {
      "cell_type": "markdown",
      "metadata": {},
      "source": [
        "### Agglomerative Clustering"
      ]
    },
    {
      "cell_type": "code",
      "execution_count": 14,
      "metadata": {},
      "outputs": [],
      "source": [
        "location_demand_df = labeled_df.groupby('Location')['Demand'].max().to_frame('Demand').sort_values(by = 'Demand').reset_index()\n",
        "clustering = AgglomerativeClustering(n_clusters = GROUP_NUM).fit(location_demand_df['Demand'].to_numpy().reshape(-1, 1))"
      ]
    },
    {
      "cell_type": "code",
      "execution_count": 15,
      "metadata": {},
      "outputs": [
        {
          "data": {
            "image/png": "[encoded data removed]",
            "text/plain": [
              "<Figure size 640x480 with 1 Axes>"
            ]
          },
          "metadata": {},
          "output_type": "display_data"
        }
      ],
      "source": [
        "plt.scatter(location_demand_df['Demand'], location_demand_df['Location'], c = clustering.labels_)\n",
        "plt.show()"
      ]
    },
    {
      "cell_type": "code",
      "execution_count": 16,
      "metadata": {},
      "outputs": [],
      "source": [
        "def group_locations(location_demand_df, group_num):\n",
        "    locations = [[] for i in range(group_num)]\n",
        "    for i in range(group_num):\n",
        "        demand_values = location_demand_df['Demand'].to_numpy().reshape(-1, 1)[clustering.labels_ == i]\n",
        "        locations[i].append(\n",
        "            location_demand_df[(location_demand_df['Demand'] >= np.min(demand_values))\n",
        "            &(location_demand_df['Demand'] <= np.max(demand_values))]['Location'].values)\n",
        "    \n",
        "    return locations"
      ]
    },
    {
      "cell_type": "code",
      "execution_count": 17,
      "metadata": {},
      "outputs": [],
      "source": [
        "sorted_group_labels  = [i for i in range(GROUP_NUM)]"
      ]
    },
    {
      "cell_type": "code",
      "execution_count": 18,
      "metadata": {},
      "outputs": [],
      "source": [
        "grouped_locations = group_locations(location_demand_df, GROUP_NUM)"
      ]
    },
    {
      "cell_type": "code",
      "execution_count": 19,
      "metadata": {},
      "outputs": [],
      "source": [
        "grouped_locations_dfs = []\n",
        "for i in range(GROUP_NUM):\n",
        "    one_group_demand_df = grouped_locations[sorted_group_labels[i]][0]\n",
        "    one_group_demand_df = labeled_df[labeled_df['Location'].isin(one_group_demand_df)].reset_index(drop = True)\n",
        "    grouped_locations_dfs.append(one_group_demand_df)"
      ]
    },
    {
      "cell_type": "markdown",
      "metadata": {
        "id": "G0W2pR-70JJb"
      },
      "source": [
        "## Add Feature"
      ]
    },
    {
      "cell_type": "code",
      "execution_count": 20,
      "metadata": {
        "id": "ifvk6uWS6hnT"
      },
      "outputs": [],
      "source": [
        "def feature_engineering(dataset):\n",
        "    dataset['Previous_day_demand'] = dataset.groupby(['Location'])['Demand'].shift(1)\n",
        "    dataset['Previous_2day_demand'] = dataset.groupby(['Location'])['Demand'].shift(2)\n",
        "    dataset['Previous_3day_demand'] = dataset.groupby(['Location'])['Demand'].shift(3)\n",
        "    dataset['Previous_4day_demand'] = dataset.groupby(['Location'])['Demand'].shift(4)\n",
        "    dataset['Previous_5day_demand'] = dataset.groupby(['Location'])['Demand'].shift(5)\n",
        "    dataset['Previous_6day_demand'] = dataset.groupby(['Location'])['Demand'].shift(6)\n",
        "    dataset['Previous_week_demand'] = dataset.groupby(['Location'])['Demand'].shift(7)\n",
        "    dataset['Previous_8day_demand'] = dataset.groupby(['Location'])['Demand'].shift(8)\n",
        "    dataset['Previous_9day_demand'] = dataset.groupby(['Location'])['Demand'].shift(9)\n",
        "    dataset['Previous_10day_demand'] = dataset.groupby(['Location'])['Demand'].shift(10)\n",
        "    dataset['Previous_11day_demand'] = dataset.groupby(['Location'])['Demand'].shift(11)\n",
        "    dataset['Previous_12day_demand'] = dataset.groupby(['Location'])['Demand'].shift(12)\n",
        "    dataset['Previous_13day_demand'] = dataset.groupby(['Location'])['Demand'].shift(13)\n",
        "    dataset['Previous_2week_demand'] = dataset.groupby(['Location'])['Demand'].shift(14)\n",
        "\n",
        "    dataset['Previous_week_max_demand'] = dataset.groupby('Location')['Demand'].rolling(window=7).max().reset_index(drop = True)\n",
        "    dataset['Previous_2week_max_demand'] = dataset.groupby('Location')['Demand'].rolling(window=14).max().reset_index(drop = True)\n",
        "\n",
        "    data_per_date = []\n",
        "\n",
        "    # Get the unique dates from the DataFrame\n",
        "    unique_dates = dataset['Date'].unique()\n",
        "\n",
        "    # Number of days to look back (in this case, 7 days)\n",
        "    days_to_look_back = 7\n",
        "\n",
        "    # Iterate through each date\n",
        "    for date in unique_dates:\n",
        "        # Filter the DataFrame to get the 7 past day rows for the current date\n",
        "        past_7_days_df = dataset[dataset['Date'] >= date - pd.Timedelta(days=days_to_look_back)]\n",
        "        past_7_days_df = past_7_days_df[past_7_days_df['Date'] < date]\n",
        "        \n",
        "        # Convert the filtered DataFrame to a dictionary with location as keys and demand values as values\n",
        "        data_dict = past_7_days_df.set_index('Location')['Demand'].to_dict()\n",
        "        data_per_date.append(data_dict)\n",
        "\n",
        "    # Create an empty list to store the maximum demand for each date\n",
        "    max_demand_per_date = []\n",
        "    min_demand_per_date = []\n",
        "    mean_demand_per_date = []\n",
        "\n",
        "    # Iterate through the data_per_date list\n",
        "    for data_dict in data_per_date:\n",
        "        if data_dict:  # Check if the dictionary is not empty\n",
        "            max_demand_per_date.append(max(data_dict.values()))\n",
        "            min_demand_per_date.append(min(data_dict.values()))\n",
        "            mean_demand_per_date.append(np.mean(list(data_dict.values())))\n",
        "        else:\n",
        "            max_demand_per_date.append(None)\n",
        "            min_demand_per_date.append(None)\n",
        "            mean_demand_per_date.append(None)\n",
        "\n",
        "    # Convert the list to a numpy array\n",
        "    max_demand_per_date = np.array(max_demand_per_date)\n",
        "    min_demand_per_date = np.array(min_demand_per_date)\n",
        "    mean_demand_per_date = np.array(mean_demand_per_date)\n",
        "\n",
        "    max_demand_df = pd.DataFrame({'Date': unique_dates, 'Previous_week_group_max_demand': max_demand_per_date})\n",
        "    min_demand_df = pd.DataFrame({'Date': unique_dates, 'Previous_week_group_min_demand': min_demand_per_date})\n",
        "    mean_demand_df = pd.DataFrame({'Date': unique_dates, 'Previous_week_group_mean_demand': mean_demand_per_date})\n",
        "\n",
        "    dataset = dataset.merge(max_demand_df, on='Date')\n",
        "    dataset = dataset.merge(min_demand_df, on='Date')\n",
        "    dataset = dataset.merge(mean_demand_df, on='Date')\n",
        "\n",
        "    dataset['Day_of_week'] = dataset['Date'].dt.dayofweek   \n",
        "    dataset['Day_of_month'] = dataset['Date'].dt.day\n",
        "    \n",
        "    return dataset"
      ]
    },
    {
      "cell_type": "code",
      "execution_count": 21,
      "metadata": {},
      "outputs": [],
      "source": [
        "grouped_locations_features_dfs = []\n",
        "for i in range(GROUP_NUM):\n",
        "    one_group_features_df = feature_engineering(grouped_locations_dfs[i])\n",
        "    one_group_features_df = one_group_features_df.dropna().reset_index(drop = True)\n",
        "    one_group_features_df['Previous_week_group_max_demand'] = one_group_features_df['Previous_week_group_max_demand'].astype('float64')\n",
        "    one_group_features_df['Previous_week_group_min_demand'] = one_group_features_df['Previous_week_group_min_demand'].astype('float64')\n",
        "    one_group_features_df['Previous_week_group_mean_demand'] = one_group_features_df['Previous_week_group_mean_demand'].astype('float64')\n",
        "    grouped_locations_features_dfs.append(one_group_features_df)"
      ]
    },
    {
      "cell_type": "code",
      "execution_count": 22,
      "metadata": {},
      "outputs": [],
      "source": [
        "features_df = pd.concat(grouped_locations_features_dfs, axis = 0)\n",
        "\n",
        "features_df = (\n",
        "        features_df\n",
        "        .merge(ridge_df, how='left', on=['Location', 'Date'])\n",
        "        .rename(columns = {'Predicted_demand' : 'Ridge_predict'})\n",
        "        )\n",
        "\n",
        "features_df = features_df.sort_values(by = ['Location', 'Date']).reset_index(drop = True)\n",
        "features_df = features_df"
      ]
    },
    {
      "cell_type": "code",
      "execution_count": 23,
      "metadata": {
        "id": "bJxWEkiD3VOZ"
      },
      "outputs": [
        {
          "name": "stdout",
          "output_type": "stream",
          "text": [
            "features dataframe shape : (27772, 25)\n"
          ]
        },
        {
          "data": {
            "text/html": [
              "<div>\n",
              "<style scoped>\n",
              "    .dataframe tbody tr th:only-of-type {\n",
              "        vertical-align: middle;\n",
              "    }\n",
              "\n",
              "    .dataframe tbody tr th {\n",
              "        vertical-align: top;\n",
              "    }\n",
              "\n",
              "    .dataframe thead th {\n",
              "        text-align: right;\n",
              "    }\n",
              "</style>\n",
              "<table border=\"1\" class=\"dataframe\">\n",
              "  <thead>\n",
              "    <tr style=\"text-align: right;\">\n",
              "      <th></th>\n",
              "      <th>Location</th>\n",
              "      <th>Date</th>\n",
              "      <th>Demand</th>\n",
              "      <th>Previous_day_demand</th>\n",
              "      <th>Previous_2day_demand</th>\n",
              "      <th>Previous_3day_demand</th>\n",
              "      <th>Previous_4day_demand</th>\n",
              "      <th>Previous_5day_demand</th>\n",
              "      <th>Previous_6day_demand</th>\n",
              "      <th>Previous_week_demand</th>\n",
              "      <th>...</th>\n",
              "      <th>Previous_13day_demand</th>\n",
              "      <th>Previous_2week_demand</th>\n",
              "      <th>Previous_week_max_demand</th>\n",
              "      <th>Previous_2week_max_demand</th>\n",
              "      <th>Previous_week_group_max_demand</th>\n",
              "      <th>Previous_week_group_min_demand</th>\n",
              "      <th>Previous_week_group_mean_demand</th>\n",
              "      <th>Day_of_week</th>\n",
              "      <th>Day_of_month</th>\n",
              "      <th>Ridge_predict</th>\n",
              "    </tr>\n",
              "  </thead>\n",
              "  <tbody>\n",
              "    <tr>\n",
              "      <th>0</th>\n",
              "      <td>1</td>\n",
              "      <td>2023-01-15</td>\n",
              "      <td>19.0</td>\n",
              "      <td>7.0</td>\n",
              "      <td>21.0</td>\n",
              "      <td>8.0</td>\n",
              "      <td>9.0</td>\n",
              "      <td>4.0</td>\n",
              "      <td>14.0</td>\n",
              "      <td>12.0</td>\n",
              "      <td>...</td>\n",
              "      <td>31.0</td>\n",
              "      <td>40.0</td>\n",
              "      <td>21.0</td>\n",
              "      <td>31.0</td>\n",
              "      <td>293.0</td>\n",
              "      <td>0.0</td>\n",
              "      <td>17.485849</td>\n",
              "      <td>6</td>\n",
              "      <td>15</td>\n",
              "      <td>20.237013</td>\n",
              "    </tr>\n",
              "    <tr>\n",
              "      <th>1</th>\n",
              "      <td>1</td>\n",
              "      <td>2023-01-16</td>\n",
              "      <td>21.0</td>\n",
              "      <td>19.0</td>\n",
              "      <td>7.0</td>\n",
              "      <td>21.0</td>\n",
              "      <td>8.0</td>\n",
              "      <td>9.0</td>\n",
              "      <td>4.0</td>\n",
              "      <td>14.0</td>\n",
              "      <td>...</td>\n",
              "      <td>27.0</td>\n",
              "      <td>31.0</td>\n",
              "      <td>21.0</td>\n",
              "      <td>27.0</td>\n",
              "      <td>243.0</td>\n",
              "      <td>0.0</td>\n",
              "      <td>15.995283</td>\n",
              "      <td>0</td>\n",
              "      <td>16</td>\n",
              "      <td>23.753488</td>\n",
              "    </tr>\n",
              "    <tr>\n",
              "      <th>2</th>\n",
              "      <td>1</td>\n",
              "      <td>2023-01-17</td>\n",
              "      <td>18.0</td>\n",
              "      <td>21.0</td>\n",
              "      <td>19.0</td>\n",
              "      <td>7.0</td>\n",
              "      <td>21.0</td>\n",
              "      <td>8.0</td>\n",
              "      <td>9.0</td>\n",
              "      <td>4.0</td>\n",
              "      <td>...</td>\n",
              "      <td>7.0</td>\n",
              "      <td>27.0</td>\n",
              "      <td>21.0</td>\n",
              "      <td>21.0</td>\n",
              "      <td>197.0</td>\n",
              "      <td>0.0</td>\n",
              "      <td>11.433962</td>\n",
              "      <td>1</td>\n",
              "      <td>17</td>\n",
              "      <td>16.325936</td>\n",
              "    </tr>\n",
              "    <tr>\n",
              "      <th>3</th>\n",
              "      <td>1</td>\n",
              "      <td>2023-01-18</td>\n",
              "      <td>10.0</td>\n",
              "      <td>18.0</td>\n",
              "      <td>21.0</td>\n",
              "      <td>19.0</td>\n",
              "      <td>7.0</td>\n",
              "      <td>21.0</td>\n",
              "      <td>8.0</td>\n",
              "      <td>9.0</td>\n",
              "      <td>...</td>\n",
              "      <td>15.0</td>\n",
              "      <td>7.0</td>\n",
              "      <td>21.0</td>\n",
              "      <td>21.0</td>\n",
              "      <td>274.0</td>\n",
              "      <td>0.0</td>\n",
              "      <td>14.358491</td>\n",
              "      <td>2</td>\n",
              "      <td>18</td>\n",
              "      <td>13.698380</td>\n",
              "    </tr>\n",
              "    <tr>\n",
              "      <th>4</th>\n",
              "      <td>1</td>\n",
              "      <td>2023-01-19</td>\n",
              "      <td>9.0</td>\n",
              "      <td>10.0</td>\n",
              "      <td>18.0</td>\n",
              "      <td>21.0</td>\n",
              "      <td>19.0</td>\n",
              "      <td>7.0</td>\n",
              "      <td>21.0</td>\n",
              "      <td>8.0</td>\n",
              "      <td>...</td>\n",
              "      <td>11.0</td>\n",
              "      <td>15.0</td>\n",
              "      <td>21.0</td>\n",
              "      <td>21.0</td>\n",
              "      <td>291.0</td>\n",
              "      <td>0.0</td>\n",
              "      <td>14.801887</td>\n",
              "      <td>3</td>\n",
              "      <td>19</td>\n",
              "      <td>13.702708</td>\n",
              "    </tr>\n",
              "  </tbody>\n",
              "</table>\n",
              "<p>5 rows × 25 columns</p>\n",
              "</div>"
            ],
            "text/plain": [
              "   Location       Date  Demand  Previous_day_demand  Previous_2day_demand  \\\n",
              "0         1 2023-01-15    19.0                  7.0                  21.0   \n",
              "1         1 2023-01-16    21.0                 19.0                   7.0   \n",
              "2         1 2023-01-17    18.0                 21.0                  19.0   \n",
              "3         1 2023-01-18    10.0                 18.0                  21.0   \n",
              "4         1 2023-01-19     9.0                 10.0                  18.0   \n",
              "\n",
              "   Previous_3day_demand  Previous_4day_demand  Previous_5day_demand  \\\n",
              "0                   8.0                   9.0                   4.0   \n",
              "1                  21.0                   8.0                   9.0   \n",
              "2                   7.0                  21.0                   8.0   \n",
              "3                  19.0                   7.0                  21.0   \n",
              "4                  21.0                  19.0                   7.0   \n",
              "\n",
              "   Previous_6day_demand  Previous_week_demand  ...  Previous_13day_demand  \\\n",
              "0                  14.0                  12.0  ...                   31.0   \n",
              "1                   4.0                  14.0  ...                   27.0   \n",
              "2                   9.0                   4.0  ...                    7.0   \n",
              "3                   8.0                   9.0  ...                   15.0   \n",
              "4                  21.0                   8.0  ...                   11.0   \n",
              "\n",
              "   Previous_2week_demand  Previous_week_max_demand  Previous_2week_max_demand  \\\n",
              "0                   40.0                      21.0                       31.0   \n",
              "1                   31.0                      21.0                       27.0   \n",
              "2                   27.0                      21.0                       21.0   \n",
              "3                    7.0                      21.0                       21.0   \n",
              "4                   15.0                      21.0                       21.0   \n",
              "\n",
              "   Previous_week_group_max_demand  Previous_week_group_min_demand  \\\n",
              "0                           293.0                             0.0   \n",
              "1                           243.0                             0.0   \n",
              "2                           197.0                             0.0   \n",
              "3                           274.0                             0.0   \n",
              "4                           291.0                             0.0   \n",
              "\n",
              "   Previous_week_group_mean_demand  Day_of_week  Day_of_month  Ridge_predict  \n",
              "0                        17.485849            6            15      20.237013  \n",
              "1                        15.995283            0            16      23.753488  \n",
              "2                        11.433962            1            17      16.325936  \n",
              "3                        14.358491            2            18      13.698380  \n",
              "4                        14.801887            3            19      13.702708  \n",
              "\n",
              "[5 rows x 25 columns]"
            ]
          },
          "execution_count": 23,
          "metadata": {},
          "output_type": "execute_result"
        }
      ],
      "source": [
        "print(f'features dataframe shape : {features_df.shape}')\n",
        "features_df.head()"
      ]
    },
    {
      "cell_type": "markdown",
      "metadata": {
        "id": "zN0kp6jw03DP"
      },
      "source": [
        "## Split Train and Test Data"
      ]
    },
    {
      "cell_type": "code",
      "execution_count": 24,
      "metadata": {
        "id": "CMY1G1lmwGmI"
      },
      "outputs": [],
      "source": [
        "def train_test_splitting(dataset, TEST_START_DATE):\n",
        "\n",
        "    train_df = dataset[dataset['Date'] < TEST_START_DATE]\n",
        "    test_df = dataset[dataset['Date'] >= TEST_START_DATE]\n",
        "\n",
        "    return train_df, test_df"
      ]
    },
    {
      "cell_type": "code",
      "execution_count": 25,
      "metadata": {
        "id": "3xH4VMGNwGmK"
      },
      "outputs": [],
      "source": [
        "train_df, test_df = train_test_splitting(features_df, TEST_START_DATE)"
      ]
    },
    {
      "cell_type": "code",
      "execution_count": 26,
      "metadata": {},
      "outputs": [],
      "source": [
        "grid_search_train_df, valid_df = train_test_splitting(train_df, VALIDATION_START_DATE) "
      ]
    },
    {
      "cell_type": "code",
      "execution_count": 27,
      "metadata": {
        "id": "xxGdRZfqwGmL"
      },
      "outputs": [
        {
          "name": "stdout",
          "output_type": "stream",
          "text": [
            "train dataframe shape : (19912, 25)\n"
          ]
        },
        {
          "data": {
            "text/html": [
              "<div>\n",
              "<style scoped>\n",
              "    .dataframe tbody tr th:only-of-type {\n",
              "        vertical-align: middle;\n",
              "    }\n",
              "\n",
              "    .dataframe tbody tr th {\n",
              "        vertical-align: top;\n",
              "    }\n",
              "\n",
              "    .dataframe thead th {\n",
              "        text-align: right;\n",
              "    }\n",
              "</style>\n",
              "<table border=\"1\" class=\"dataframe\">\n",
              "  <thead>\n",
              "    <tr style=\"text-align: right;\">\n",
              "      <th></th>\n",
              "      <th>Location</th>\n",
              "      <th>Date</th>\n",
              "      <th>Demand</th>\n",
              "      <th>Previous_day_demand</th>\n",
              "      <th>Previous_2day_demand</th>\n",
              "      <th>Previous_3day_demand</th>\n",
              "      <th>Previous_4day_demand</th>\n",
              "      <th>Previous_5day_demand</th>\n",
              "      <th>Previous_6day_demand</th>\n",
              "      <th>Previous_week_demand</th>\n",
              "      <th>...</th>\n",
              "      <th>Previous_13day_demand</th>\n",
              "      <th>Previous_2week_demand</th>\n",
              "      <th>Previous_week_max_demand</th>\n",
              "      <th>Previous_2week_max_demand</th>\n",
              "      <th>Previous_week_group_max_demand</th>\n",
              "      <th>Previous_week_group_min_demand</th>\n",
              "      <th>Previous_week_group_mean_demand</th>\n",
              "      <th>Day_of_week</th>\n",
              "      <th>Day_of_month</th>\n",
              "      <th>Ridge_predict</th>\n",
              "    </tr>\n",
              "  </thead>\n",
              "  <tbody>\n",
              "    <tr>\n",
              "      <th>0</th>\n",
              "      <td>1</td>\n",
              "      <td>2023-01-15</td>\n",
              "      <td>19.0</td>\n",
              "      <td>7.0</td>\n",
              "      <td>21.0</td>\n",
              "      <td>8.0</td>\n",
              "      <td>9.0</td>\n",
              "      <td>4.0</td>\n",
              "      <td>14.0</td>\n",
              "      <td>12.0</td>\n",
              "      <td>...</td>\n",
              "      <td>31.0</td>\n",
              "      <td>40.0</td>\n",
              "      <td>21.0</td>\n",
              "      <td>31.0</td>\n",
              "      <td>293.0</td>\n",
              "      <td>0.0</td>\n",
              "      <td>17.485849</td>\n",
              "      <td>6</td>\n",
              "      <td>15</td>\n",
              "      <td>20.237013</td>\n",
              "    </tr>\n",
              "    <tr>\n",
              "      <th>1</th>\n",
              "      <td>1</td>\n",
              "      <td>2023-01-16</td>\n",
              "      <td>21.0</td>\n",
              "      <td>19.0</td>\n",
              "      <td>7.0</td>\n",
              "      <td>21.0</td>\n",
              "      <td>8.0</td>\n",
              "      <td>9.0</td>\n",
              "      <td>4.0</td>\n",
              "      <td>14.0</td>\n",
              "      <td>...</td>\n",
              "      <td>27.0</td>\n",
              "      <td>31.0</td>\n",
              "      <td>21.0</td>\n",
              "      <td>27.0</td>\n",
              "      <td>243.0</td>\n",
              "      <td>0.0</td>\n",
              "      <td>15.995283</td>\n",
              "      <td>0</td>\n",
              "      <td>16</td>\n",
              "      <td>23.753488</td>\n",
              "    </tr>\n",
              "    <tr>\n",
              "      <th>2</th>\n",
              "      <td>1</td>\n",
              "      <td>2023-01-17</td>\n",
              "      <td>18.0</td>\n",
              "      <td>21.0</td>\n",
              "      <td>19.0</td>\n",
              "      <td>7.0</td>\n",
              "      <td>21.0</td>\n",
              "      <td>8.0</td>\n",
              "      <td>9.0</td>\n",
              "      <td>4.0</td>\n",
              "      <td>...</td>\n",
              "      <td>7.0</td>\n",
              "      <td>27.0</td>\n",
              "      <td>21.0</td>\n",
              "      <td>21.0</td>\n",
              "      <td>197.0</td>\n",
              "      <td>0.0</td>\n",
              "      <td>11.433962</td>\n",
              "      <td>1</td>\n",
              "      <td>17</td>\n",
              "      <td>16.325936</td>\n",
              "    </tr>\n",
              "    <tr>\n",
              "      <th>3</th>\n",
              "      <td>1</td>\n",
              "      <td>2023-01-18</td>\n",
              "      <td>10.0</td>\n",
              "      <td>18.0</td>\n",
              "      <td>21.0</td>\n",
              "      <td>19.0</td>\n",
              "      <td>7.0</td>\n",
              "      <td>21.0</td>\n",
              "      <td>8.0</td>\n",
              "      <td>9.0</td>\n",
              "      <td>...</td>\n",
              "      <td>15.0</td>\n",
              "      <td>7.0</td>\n",
              "      <td>21.0</td>\n",
              "      <td>21.0</td>\n",
              "      <td>274.0</td>\n",
              "      <td>0.0</td>\n",
              "      <td>14.358491</td>\n",
              "      <td>2</td>\n",
              "      <td>18</td>\n",
              "      <td>13.698380</td>\n",
              "    </tr>\n",
              "    <tr>\n",
              "      <th>4</th>\n",
              "      <td>1</td>\n",
              "      <td>2023-01-19</td>\n",
              "      <td>9.0</td>\n",
              "      <td>10.0</td>\n",
              "      <td>18.0</td>\n",
              "      <td>21.0</td>\n",
              "      <td>19.0</td>\n",
              "      <td>7.0</td>\n",
              "      <td>21.0</td>\n",
              "      <td>8.0</td>\n",
              "      <td>...</td>\n",
              "      <td>11.0</td>\n",
              "      <td>15.0</td>\n",
              "      <td>21.0</td>\n",
              "      <td>21.0</td>\n",
              "      <td>291.0</td>\n",
              "      <td>0.0</td>\n",
              "      <td>14.801887</td>\n",
              "      <td>3</td>\n",
              "      <td>19</td>\n",
              "      <td>13.702708</td>\n",
              "    </tr>\n",
              "  </tbody>\n",
              "</table>\n",
              "<p>5 rows × 25 columns</p>\n",
              "</div>"
            ],
            "text/plain": [
              "   Location       Date  Demand  Previous_day_demand  Previous_2day_demand  \\\n",
              "0         1 2023-01-15    19.0                  7.0                  21.0   \n",
              "1         1 2023-01-16    21.0                 19.0                   7.0   \n",
              "2         1 2023-01-17    18.0                 21.0                  19.0   \n",
              "3         1 2023-01-18    10.0                 18.0                  21.0   \n",
              "4         1 2023-01-19     9.0                 10.0                  18.0   \n",
              "\n",
              "   Previous_3day_demand  Previous_4day_demand  Previous_5day_demand  \\\n",
              "0                   8.0                   9.0                   4.0   \n",
              "1                  21.0                   8.0                   9.0   \n",
              "2                   7.0                  21.0                   8.0   \n",
              "3                  19.0                   7.0                  21.0   \n",
              "4                  21.0                  19.0                   7.0   \n",
              "\n",
              "   Previous_6day_demand  Previous_week_demand  ...  Previous_13day_demand  \\\n",
              "0                  14.0                  12.0  ...                   31.0   \n",
              "1                   4.0                  14.0  ...                   27.0   \n",
              "2                   9.0                   4.0  ...                    7.0   \n",
              "3                   8.0                   9.0  ...                   15.0   \n",
              "4                  21.0                   8.0  ...                   11.0   \n",
              "\n",
              "   Previous_2week_demand  Previous_week_max_demand  Previous_2week_max_demand  \\\n",
              "0                   40.0                      21.0                       31.0   \n",
              "1                   31.0                      21.0                       27.0   \n",
              "2                   27.0                      21.0                       21.0   \n",
              "3                    7.0                      21.0                       21.0   \n",
              "4                   15.0                      21.0                       21.0   \n",
              "\n",
              "   Previous_week_group_max_demand  Previous_week_group_min_demand  \\\n",
              "0                           293.0                             0.0   \n",
              "1                           243.0                             0.0   \n",
              "2                           197.0                             0.0   \n",
              "3                           274.0                             0.0   \n",
              "4                           291.0                             0.0   \n",
              "\n",
              "   Previous_week_group_mean_demand  Day_of_week  Day_of_month  Ridge_predict  \n",
              "0                        17.485849            6            15      20.237013  \n",
              "1                        15.995283            0            16      23.753488  \n",
              "2                        11.433962            1            17      16.325936  \n",
              "3                        14.358491            2            18      13.698380  \n",
              "4                        14.801887            3            19      13.702708  \n",
              "\n",
              "[5 rows x 25 columns]"
            ]
          },
          "execution_count": 27,
          "metadata": {},
          "output_type": "execute_result"
        }
      ],
      "source": [
        "print(f'train dataframe shape : {train_df.shape}')\n",
        "train_df.head()"
      ]
    },
    {
      "cell_type": "code",
      "execution_count": 28,
      "metadata": {},
      "outputs": [
        {
          "name": "stdout",
          "output_type": "stream",
          "text": [
            "validation dataframe shape : (2882, 25)\n"
          ]
        },
        {
          "data": {
            "text/html": [
              "<div>\n",
              "<style scoped>\n",
              "    .dataframe tbody tr th:only-of-type {\n",
              "        vertical-align: middle;\n",
              "    }\n",
              "\n",
              "    .dataframe tbody tr th {\n",
              "        vertical-align: top;\n",
              "    }\n",
              "\n",
              "    .dataframe thead th {\n",
              "        text-align: right;\n",
              "    }\n",
              "</style>\n",
              "<table border=\"1\" class=\"dataframe\">\n",
              "  <thead>\n",
              "    <tr style=\"text-align: right;\">\n",
              "      <th></th>\n",
              "      <th>Location</th>\n",
              "      <th>Date</th>\n",
              "      <th>Demand</th>\n",
              "      <th>Previous_day_demand</th>\n",
              "      <th>Previous_2day_demand</th>\n",
              "      <th>Previous_3day_demand</th>\n",
              "      <th>Previous_4day_demand</th>\n",
              "      <th>Previous_5day_demand</th>\n",
              "      <th>Previous_6day_demand</th>\n",
              "      <th>Previous_week_demand</th>\n",
              "      <th>...</th>\n",
              "      <th>Previous_13day_demand</th>\n",
              "      <th>Previous_2week_demand</th>\n",
              "      <th>Previous_week_max_demand</th>\n",
              "      <th>Previous_2week_max_demand</th>\n",
              "      <th>Previous_week_group_max_demand</th>\n",
              "      <th>Previous_week_group_min_demand</th>\n",
              "      <th>Previous_week_group_mean_demand</th>\n",
              "      <th>Day_of_week</th>\n",
              "      <th>Day_of_month</th>\n",
              "      <th>Ridge_predict</th>\n",
              "    </tr>\n",
              "  </thead>\n",
              "  <tbody>\n",
              "    <tr>\n",
              "      <th>65</th>\n",
              "      <td>1</td>\n",
              "      <td>2023-03-21</td>\n",
              "      <td>6.0</td>\n",
              "      <td>14.0</td>\n",
              "      <td>33.0</td>\n",
              "      <td>25.0</td>\n",
              "      <td>18.0</td>\n",
              "      <td>12.0</td>\n",
              "      <td>5.0</td>\n",
              "      <td>14.0</td>\n",
              "      <td>...</td>\n",
              "      <td>20.0</td>\n",
              "      <td>15.0</td>\n",
              "      <td>33.0</td>\n",
              "      <td>33.0</td>\n",
              "      <td>243.0</td>\n",
              "      <td>0.0</td>\n",
              "      <td>16.165094</td>\n",
              "      <td>1</td>\n",
              "      <td>21</td>\n",
              "      <td>15.724159</td>\n",
              "    </tr>\n",
              "    <tr>\n",
              "      <th>66</th>\n",
              "      <td>1</td>\n",
              "      <td>2023-03-22</td>\n",
              "      <td>9.0</td>\n",
              "      <td>6.0</td>\n",
              "      <td>14.0</td>\n",
              "      <td>33.0</td>\n",
              "      <td>25.0</td>\n",
              "      <td>18.0</td>\n",
              "      <td>12.0</td>\n",
              "      <td>5.0</td>\n",
              "      <td>...</td>\n",
              "      <td>19.0</td>\n",
              "      <td>20.0</td>\n",
              "      <td>33.0</td>\n",
              "      <td>33.0</td>\n",
              "      <td>241.0</td>\n",
              "      <td>0.0</td>\n",
              "      <td>16.646226</td>\n",
              "      <td>2</td>\n",
              "      <td>22</td>\n",
              "      <td>11.945767</td>\n",
              "    </tr>\n",
              "    <tr>\n",
              "      <th>67</th>\n",
              "      <td>1</td>\n",
              "      <td>2023-03-23</td>\n",
              "      <td>21.0</td>\n",
              "      <td>9.0</td>\n",
              "      <td>6.0</td>\n",
              "      <td>14.0</td>\n",
              "      <td>33.0</td>\n",
              "      <td>25.0</td>\n",
              "      <td>18.0</td>\n",
              "      <td>12.0</td>\n",
              "      <td>...</td>\n",
              "      <td>15.0</td>\n",
              "      <td>19.0</td>\n",
              "      <td>33.0</td>\n",
              "      <td>33.0</td>\n",
              "      <td>272.0</td>\n",
              "      <td>0.0</td>\n",
              "      <td>15.962264</td>\n",
              "      <td>3</td>\n",
              "      <td>23</td>\n",
              "      <td>16.678700</td>\n",
              "    </tr>\n",
              "    <tr>\n",
              "      <th>68</th>\n",
              "      <td>1</td>\n",
              "      <td>2023-03-24</td>\n",
              "      <td>9.0</td>\n",
              "      <td>21.0</td>\n",
              "      <td>9.0</td>\n",
              "      <td>6.0</td>\n",
              "      <td>14.0</td>\n",
              "      <td>33.0</td>\n",
              "      <td>25.0</td>\n",
              "      <td>18.0</td>\n",
              "      <td>...</td>\n",
              "      <td>14.0</td>\n",
              "      <td>15.0</td>\n",
              "      <td>33.0</td>\n",
              "      <td>33.0</td>\n",
              "      <td>266.0</td>\n",
              "      <td>0.0</td>\n",
              "      <td>17.900943</td>\n",
              "      <td>4</td>\n",
              "      <td>24</td>\n",
              "      <td>20.931064</td>\n",
              "    </tr>\n",
              "    <tr>\n",
              "      <th>69</th>\n",
              "      <td>1</td>\n",
              "      <td>2023-03-25</td>\n",
              "      <td>15.0</td>\n",
              "      <td>9.0</td>\n",
              "      <td>21.0</td>\n",
              "      <td>9.0</td>\n",
              "      <td>6.0</td>\n",
              "      <td>14.0</td>\n",
              "      <td>33.0</td>\n",
              "      <td>25.0</td>\n",
              "      <td>...</td>\n",
              "      <td>20.0</td>\n",
              "      <td>14.0</td>\n",
              "      <td>33.0</td>\n",
              "      <td>33.0</td>\n",
              "      <td>300.0</td>\n",
              "      <td>0.0</td>\n",
              "      <td>18.863208</td>\n",
              "      <td>5</td>\n",
              "      <td>25</td>\n",
              "      <td>19.884432</td>\n",
              "    </tr>\n",
              "  </tbody>\n",
              "</table>\n",
              "<p>5 rows × 25 columns</p>\n",
              "</div>"
            ],
            "text/plain": [
              "    Location       Date  Demand  Previous_day_demand  Previous_2day_demand  \\\n",
              "65         1 2023-03-21     6.0                 14.0                  33.0   \n",
              "66         1 2023-03-22     9.0                  6.0                  14.0   \n",
              "67         1 2023-03-23    21.0                  9.0                   6.0   \n",
              "68         1 2023-03-24     9.0                 21.0                   9.0   \n",
              "69         1 2023-03-25    15.0                  9.0                  21.0   \n",
              "\n",
              "    Previous_3day_demand  Previous_4day_demand  Previous_5day_demand  \\\n",
              "65                  25.0                  18.0                  12.0   \n",
              "66                  33.0                  25.0                  18.0   \n",
              "67                  14.0                  33.0                  25.0   \n",
              "68                   6.0                  14.0                  33.0   \n",
              "69                   9.0                   6.0                  14.0   \n",
              "\n",
              "    Previous_6day_demand  Previous_week_demand  ...  Previous_13day_demand  \\\n",
              "65                   5.0                  14.0  ...                   20.0   \n",
              "66                  12.0                   5.0  ...                   19.0   \n",
              "67                  18.0                  12.0  ...                   15.0   \n",
              "68                  25.0                  18.0  ...                   14.0   \n",
              "69                  33.0                  25.0  ...                   20.0   \n",
              "\n",
              "    Previous_2week_demand  Previous_week_max_demand  \\\n",
              "65                   15.0                      33.0   \n",
              "66                   20.0                      33.0   \n",
              "67                   19.0                      33.0   \n",
              "68                   15.0                      33.0   \n",
              "69                   14.0                      33.0   \n",
              "\n",
              "    Previous_2week_max_demand  Previous_week_group_max_demand  \\\n",
              "65                       33.0                           243.0   \n",
              "66                       33.0                           241.0   \n",
              "67                       33.0                           272.0   \n",
              "68                       33.0                           266.0   \n",
              "69                       33.0                           300.0   \n",
              "\n",
              "    Previous_week_group_min_demand  Previous_week_group_mean_demand  \\\n",
              "65                             0.0                        16.165094   \n",
              "66                             0.0                        16.646226   \n",
              "67                             0.0                        15.962264   \n",
              "68                             0.0                        17.900943   \n",
              "69                             0.0                        18.863208   \n",
              "\n",
              "    Day_of_week  Day_of_month  Ridge_predict  \n",
              "65            1            21      15.724159  \n",
              "66            2            22      11.945767  \n",
              "67            3            23      16.678700  \n",
              "68            4            24      20.931064  \n",
              "69            5            25      19.884432  \n",
              "\n",
              "[5 rows x 25 columns]"
            ]
          },
          "execution_count": 28,
          "metadata": {},
          "output_type": "execute_result"
        }
      ],
      "source": [
        "print(f'validation dataframe shape : {valid_df.shape}')\n",
        "valid_df.head()"
      ]
    },
    {
      "cell_type": "code",
      "execution_count": 29,
      "metadata": {
        "id": "uPbINwH224Hy"
      },
      "outputs": [
        {
          "name": "stdout",
          "output_type": "stream",
          "text": [
            "test dataframe shape : (7860, 25)\n"
          ]
        },
        {
          "data": {
            "text/html": [
              "<div>\n",
              "<style scoped>\n",
              "    .dataframe tbody tr th:only-of-type {\n",
              "        vertical-align: middle;\n",
              "    }\n",
              "\n",
              "    .dataframe tbody tr th {\n",
              "        vertical-align: top;\n",
              "    }\n",
              "\n",
              "    .dataframe thead th {\n",
              "        text-align: right;\n",
              "    }\n",
              "</style>\n",
              "<table border=\"1\" class=\"dataframe\">\n",
              "  <thead>\n",
              "    <tr style=\"text-align: right;\">\n",
              "      <th></th>\n",
              "      <th>Location</th>\n",
              "      <th>Date</th>\n",
              "      <th>Demand</th>\n",
              "      <th>Previous_day_demand</th>\n",
              "      <th>Previous_2day_demand</th>\n",
              "      <th>Previous_3day_demand</th>\n",
              "      <th>Previous_4day_demand</th>\n",
              "      <th>Previous_5day_demand</th>\n",
              "      <th>Previous_6day_demand</th>\n",
              "      <th>Previous_week_demand</th>\n",
              "      <th>...</th>\n",
              "      <th>Previous_13day_demand</th>\n",
              "      <th>Previous_2week_demand</th>\n",
              "      <th>Previous_week_max_demand</th>\n",
              "      <th>Previous_2week_max_demand</th>\n",
              "      <th>Previous_week_group_max_demand</th>\n",
              "      <th>Previous_week_group_min_demand</th>\n",
              "      <th>Previous_week_group_mean_demand</th>\n",
              "      <th>Day_of_week</th>\n",
              "      <th>Day_of_month</th>\n",
              "      <th>Ridge_predict</th>\n",
              "    </tr>\n",
              "  </thead>\n",
              "  <tbody>\n",
              "    <tr>\n",
              "      <th>76</th>\n",
              "      <td>1</td>\n",
              "      <td>2023-04-01</td>\n",
              "      <td>13.0</td>\n",
              "      <td>13.0</td>\n",
              "      <td>13.0</td>\n",
              "      <td>7.0</td>\n",
              "      <td>14.0</td>\n",
              "      <td>3.0</td>\n",
              "      <td>14.0</td>\n",
              "      <td>15.0</td>\n",
              "      <td>...</td>\n",
              "      <td>33.0</td>\n",
              "      <td>25.0</td>\n",
              "      <td>14.0</td>\n",
              "      <td>33.0</td>\n",
              "      <td>318.0</td>\n",
              "      <td>0.0</td>\n",
              "      <td>20.259434</td>\n",
              "      <td>5</td>\n",
              "      <td>1</td>\n",
              "      <td>16.058503</td>\n",
              "    </tr>\n",
              "    <tr>\n",
              "      <th>77</th>\n",
              "      <td>1</td>\n",
              "      <td>2023-04-02</td>\n",
              "      <td>17.0</td>\n",
              "      <td>13.0</td>\n",
              "      <td>13.0</td>\n",
              "      <td>13.0</td>\n",
              "      <td>7.0</td>\n",
              "      <td>14.0</td>\n",
              "      <td>3.0</td>\n",
              "      <td>14.0</td>\n",
              "      <td>...</td>\n",
              "      <td>14.0</td>\n",
              "      <td>33.0</td>\n",
              "      <td>17.0</td>\n",
              "      <td>21.0</td>\n",
              "      <td>335.0</td>\n",
              "      <td>0.0</td>\n",
              "      <td>20.943396</td>\n",
              "      <td>6</td>\n",
              "      <td>2</td>\n",
              "      <td>19.940854</td>\n",
              "    </tr>\n",
              "    <tr>\n",
              "      <th>78</th>\n",
              "      <td>1</td>\n",
              "      <td>2023-04-03</td>\n",
              "      <td>9.0</td>\n",
              "      <td>17.0</td>\n",
              "      <td>13.0</td>\n",
              "      <td>13.0</td>\n",
              "      <td>13.0</td>\n",
              "      <td>7.0</td>\n",
              "      <td>14.0</td>\n",
              "      <td>3.0</td>\n",
              "      <td>...</td>\n",
              "      <td>6.0</td>\n",
              "      <td>14.0</td>\n",
              "      <td>17.0</td>\n",
              "      <td>21.0</td>\n",
              "      <td>272.0</td>\n",
              "      <td>0.0</td>\n",
              "      <td>18.471698</td>\n",
              "      <td>0</td>\n",
              "      <td>3</td>\n",
              "      <td>10.172899</td>\n",
              "    </tr>\n",
              "    <tr>\n",
              "      <th>79</th>\n",
              "      <td>1</td>\n",
              "      <td>2023-04-04</td>\n",
              "      <td>12.0</td>\n",
              "      <td>9.0</td>\n",
              "      <td>17.0</td>\n",
              "      <td>13.0</td>\n",
              "      <td>13.0</td>\n",
              "      <td>13.0</td>\n",
              "      <td>7.0</td>\n",
              "      <td>14.0</td>\n",
              "      <td>...</td>\n",
              "      <td>9.0</td>\n",
              "      <td>6.0</td>\n",
              "      <td>17.0</td>\n",
              "      <td>21.0</td>\n",
              "      <td>267.0</td>\n",
              "      <td>0.0</td>\n",
              "      <td>16.014151</td>\n",
              "      <td>1</td>\n",
              "      <td>4</td>\n",
              "      <td>10.371798</td>\n",
              "    </tr>\n",
              "    <tr>\n",
              "      <th>80</th>\n",
              "      <td>1</td>\n",
              "      <td>2023-04-05</td>\n",
              "      <td>18.0</td>\n",
              "      <td>12.0</td>\n",
              "      <td>9.0</td>\n",
              "      <td>17.0</td>\n",
              "      <td>13.0</td>\n",
              "      <td>13.0</td>\n",
              "      <td>13.0</td>\n",
              "      <td>7.0</td>\n",
              "      <td>...</td>\n",
              "      <td>21.0</td>\n",
              "      <td>9.0</td>\n",
              "      <td>18.0</td>\n",
              "      <td>21.0</td>\n",
              "      <td>283.0</td>\n",
              "      <td>0.0</td>\n",
              "      <td>17.330189</td>\n",
              "      <td>2</td>\n",
              "      <td>5</td>\n",
              "      <td>9.977403</td>\n",
              "    </tr>\n",
              "  </tbody>\n",
              "</table>\n",
              "<p>5 rows × 25 columns</p>\n",
              "</div>"
            ],
            "text/plain": [
              "    Location       Date  Demand  Previous_day_demand  Previous_2day_demand  \\\n",
              "76         1 2023-04-01    13.0                 13.0                  13.0   \n",
              "77         1 2023-04-02    17.0                 13.0                  13.0   \n",
              "78         1 2023-04-03     9.0                 17.0                  13.0   \n",
              "79         1 2023-04-04    12.0                  9.0                  17.0   \n",
              "80         1 2023-04-05    18.0                 12.0                   9.0   \n",
              "\n",
              "    Previous_3day_demand  Previous_4day_demand  Previous_5day_demand  \\\n",
              "76                   7.0                  14.0                   3.0   \n",
              "77                  13.0                   7.0                  14.0   \n",
              "78                  13.0                  13.0                   7.0   \n",
              "79                  13.0                  13.0                  13.0   \n",
              "80                  17.0                  13.0                  13.0   \n",
              "\n",
              "    Previous_6day_demand  Previous_week_demand  ...  Previous_13day_demand  \\\n",
              "76                  14.0                  15.0  ...                   33.0   \n",
              "77                   3.0                  14.0  ...                   14.0   \n",
              "78                  14.0                   3.0  ...                    6.0   \n",
              "79                   7.0                  14.0  ...                    9.0   \n",
              "80                  13.0                   7.0  ...                   21.0   \n",
              "\n",
              "    Previous_2week_demand  Previous_week_max_demand  \\\n",
              "76                   25.0                      14.0   \n",
              "77                   33.0                      17.0   \n",
              "78                   14.0                      17.0   \n",
              "79                    6.0                      17.0   \n",
              "80                    9.0                      18.0   \n",
              "\n",
              "    Previous_2week_max_demand  Previous_week_group_max_demand  \\\n",
              "76                       33.0                           318.0   \n",
              "77                       21.0                           335.0   \n",
              "78                       21.0                           272.0   \n",
              "79                       21.0                           267.0   \n",
              "80                       21.0                           283.0   \n",
              "\n",
              "    Previous_week_group_min_demand  Previous_week_group_mean_demand  \\\n",
              "76                             0.0                        20.259434   \n",
              "77                             0.0                        20.943396   \n",
              "78                             0.0                        18.471698   \n",
              "79                             0.0                        16.014151   \n",
              "80                             0.0                        17.330189   \n",
              "\n",
              "    Day_of_week  Day_of_month  Ridge_predict  \n",
              "76            5             1      16.058503  \n",
              "77            6             2      19.940854  \n",
              "78            0             3      10.172899  \n",
              "79            1             4      10.371798  \n",
              "80            2             5       9.977403  \n",
              "\n",
              "[5 rows x 25 columns]"
            ]
          },
          "execution_count": 29,
          "metadata": {},
          "output_type": "execute_result"
        }
      ],
      "source": [
        "print(f'test dataframe shape : {test_df.shape}')\n",
        "test_df.head()"
      ]
    },
    {
      "cell_type": "markdown",
      "metadata": {
        "id": "xf8ChW_7wGmL"
      },
      "source": [
        "# Model Training"
      ]
    },
    {
      "cell_type": "markdown",
      "metadata": {
        "id": "mIhvw9lH92sa"
      },
      "source": [
        "## **Gradient Boosting Regressor**"
      ]
    },
    {
      "cell_type": "markdown",
      "metadata": {
        "id": "13gFIyYfZyxh"
      },
      "source": [
        "### Model Tuning"
      ]
    },
    {
      "cell_type": "code",
      "execution_count": 30,
      "metadata": {
        "id": "sOMPo5ryBm8g"
      },
      "outputs": [],
      "source": [
        "def grid_search(model_class, param_grid, train_df, val_df, feature_list):\n",
        "    best_params = None\n",
        "    best_val_loss = float('inf')\n",
        "\n",
        "    for params in product(*param_grid.values()):\n",
        "        current_params = dict(zip(param_grid.keys(), params))\n",
        "        current_model = model_class(**current_params)\n",
        "        current_model.fit(train_df[feature_list], train_df['Demand'])\n",
        "        \n",
        "        y_val_pred = current_model.predict(val_df[feature_list])\n",
        "        val_loss = mean_squared_error(val_df['Demand'], y_val_pred)\n",
        "        \n",
        "        if val_loss < best_val_loss:\n",
        "            best_val_loss = val_loss\n",
        "            best_params = current_params\n",
        "    \n",
        "    return best_params, best_val_loss"
      ]
    },
    {
      "cell_type": "code",
      "execution_count": 31,
      "metadata": {
        "id": "cm3YTQCMZVvu",
        "outputId": "4cf0ed3b-0243-476a-af87-35db760c9e5c"
      },
      "outputs": [],
      "source": [
        "if AUTO_TUNE:\n",
        "    params_test = {'learning_rate':[0.1], \n",
        "                'subsample':[0.5, 0.6, 0.7, 0.8], \n",
        "                'colsample_bytree':[0.7, 0.8, 0.9], \n",
        "                'max_depth':[4, 5, 6, 7, 8], \n",
        "                'min_child_weight':[5, 10, 20],\n",
        "                }\n",
        "\n",
        "    best_params, best_score = grid_search(\n",
        "        model_class = xgb.XGBRegressor, \n",
        "        param_grid = params_test,\n",
        "        train_df = grid_search_train_df, \n",
        "        val_df = valid_df,\n",
        "        feature_list = FEATURE_LIST, \n",
        "        )\n",
        "    \n",
        "    print(best_params, best_score)\n",
        "else:\n",
        "    best_params = {\n",
        "        'colsample_bytree': 0.8, \n",
        "        'learning_rate': 0.1, \n",
        "        'max_depth': 6, \n",
        "        'min_child_weight': 20, \n",
        "        'subsample': 0.9\n",
        "        }"
      ]
    },
    {
      "cell_type": "markdown",
      "metadata": {
        "id": "H0IHB8t41NB6"
      },
      "source": [
        "### Prediction"
      ]
    },
    {
      "cell_type": "code",
      "execution_count": 32,
      "metadata": {
        "id": "pbhM5Oe6PjW7"
      },
      "outputs": [],
      "source": [
        "def model_predict(model, train_data, test_data, feature_list):\n",
        "\n",
        "    #model.fit(train_data[feature_list], train_data['Demand'])\n",
        "    model.fit(train_data[feature_list], train_data['Demand'], eval_set=[(test_data[feature_list], test_data['Demand'])], verbose=True)\n",
        "    print(np.min(model.evals_result()[\"validation_0\"][\"rmse\"]))\n",
        "    train_predict_df = model.predict(train_data[feature_list])\n",
        "    test_predict_df = model.predict(test_data[feature_list])\n",
        "\n",
        "    return train_predict_df, test_predict_df"
      ]
    },
    {
      "cell_type": "code",
      "execution_count": 33,
      "metadata": {
        "id": "5AdQtdSqN7m9"
      },
      "outputs": [
        {
          "name": "stdout",
          "output_type": "stream",
          "text": [
            "[0]\tvalidation_0-rmse:1005.25467\n",
            "[1]\tvalidation_0-rmse:907.35367\n",
            "[2]\tvalidation_0-rmse:818.85700\n",
            "[3]\tvalidation_0-rmse:739.73057\n",
            "[4]\tvalidation_0-rmse:668.07936\n",
            "[5]\tvalidation_0-rmse:604.32831\n",
            "[6]\tvalidation_0-rmse:546.42416\n",
            "[7]\tvalidation_0-rmse:494.48873\n"
          ]
        },
        {
          "name": "stdout",
          "output_type": "stream",
          "text": [
            "[8]\tvalidation_0-rmse:448.02557\n",
            "[9]\tvalidation_0-rmse:406.12493\n",
            "[10]\tvalidation_0-rmse:368.82407\n",
            "[11]\tvalidation_0-rmse:334.96617\n",
            "[12]\tvalidation_0-rmse:304.83643\n",
            "[13]\tvalidation_0-rmse:278.28277\n",
            "[14]\tvalidation_0-rmse:254.88691\n",
            "[15]\tvalidation_0-rmse:233.33295\n",
            "[16]\tvalidation_0-rmse:214.37952\n",
            "[17]\tvalidation_0-rmse:197.61328\n",
            "[18]\tvalidation_0-rmse:182.92431\n",
            "[19]\tvalidation_0-rmse:170.31256\n",
            "[20]\tvalidation_0-rmse:159.21779\n",
            "[21]\tvalidation_0-rmse:149.23882\n",
            "[22]\tvalidation_0-rmse:140.50170\n",
            "[23]\tvalidation_0-rmse:133.07088\n",
            "[24]\tvalidation_0-rmse:126.63294\n",
            "[25]\tvalidation_0-rmse:121.21128\n",
            "[26]\tvalidation_0-rmse:116.23113\n",
            "[27]\tvalidation_0-rmse:112.37499\n",
            "[28]\tvalidation_0-rmse:108.87320\n",
            "[29]\tvalidation_0-rmse:105.74315\n",
            "[30]\tvalidation_0-rmse:102.90625\n",
            "[31]\tvalidation_0-rmse:100.81693\n",
            "[32]\tvalidation_0-rmse:99.15217\n",
            "[33]\tvalidation_0-rmse:97.64571\n",
            "[34]\tvalidation_0-rmse:96.66262\n",
            "[35]\tvalidation_0-rmse:95.60789\n",
            "[36]\tvalidation_0-rmse:94.73091\n",
            "[37]\tvalidation_0-rmse:93.97428\n",
            "[38]\tvalidation_0-rmse:93.48114\n",
            "[39]\tvalidation_0-rmse:92.97290\n",
            "[40]\tvalidation_0-rmse:92.70837\n",
            "[41]\tvalidation_0-rmse:92.58460\n",
            "[42]\tvalidation_0-rmse:92.54218\n",
            "[43]\tvalidation_0-rmse:92.39708\n",
            "[44]\tvalidation_0-rmse:92.31913\n",
            "[45]\tvalidation_0-rmse:92.23314\n",
            "[46]\tvalidation_0-rmse:92.14126\n",
            "[47]\tvalidation_0-rmse:91.94365\n",
            "[48]\tvalidation_0-rmse:91.96910\n",
            "[49]\tvalidation_0-rmse:91.93679\n",
            "[50]\tvalidation_0-rmse:92.07890\n",
            "[51]\tvalidation_0-rmse:92.03660\n",
            "[52]\tvalidation_0-rmse:91.87523\n",
            "[53]\tvalidation_0-rmse:91.96111\n",
            "[54]\tvalidation_0-rmse:91.97396\n",
            "[55]\tvalidation_0-rmse:92.20601\n",
            "[56]\tvalidation_0-rmse:92.16589\n",
            "[57]\tvalidation_0-rmse:92.14613\n",
            "[58]\tvalidation_0-rmse:92.25359\n",
            "[59]\tvalidation_0-rmse:92.15127\n",
            "[60]\tvalidation_0-rmse:91.88020\n",
            "[61]\tvalidation_0-rmse:91.93718\n",
            "[62]\tvalidation_0-rmse:92.09505\n",
            "[63]\tvalidation_0-rmse:92.04478\n",
            "[64]\tvalidation_0-rmse:91.97050\n",
            "[65]\tvalidation_0-rmse:91.93809\n",
            "[66]\tvalidation_0-rmse:91.90732\n",
            "[67]\tvalidation_0-rmse:91.99433\n",
            "[68]\tvalidation_0-rmse:92.01563\n",
            "[69]\tvalidation_0-rmse:91.91944\n",
            "[70]\tvalidation_0-rmse:91.88396\n",
            "[71]\tvalidation_0-rmse:91.87478\n",
            "[72]\tvalidation_0-rmse:91.90544\n",
            "[73]\tvalidation_0-rmse:91.97097\n",
            "[74]\tvalidation_0-rmse:91.88245\n",
            "[75]\tvalidation_0-rmse:91.96664\n",
            "[76]\tvalidation_0-rmse:91.96898\n",
            "[77]\tvalidation_0-rmse:92.00516\n",
            "[78]\tvalidation_0-rmse:91.98837\n",
            "[79]\tvalidation_0-rmse:91.97374\n",
            "[80]\tvalidation_0-rmse:91.95542\n",
            "[81]\tvalidation_0-rmse:91.97485\n",
            "[82]\tvalidation_0-rmse:91.97240\n",
            "[83]\tvalidation_0-rmse:91.94303\n",
            "[84]\tvalidation_0-rmse:92.00297\n",
            "[85]\tvalidation_0-rmse:92.12363\n",
            "[86]\tvalidation_0-rmse:92.10803\n",
            "[87]\tvalidation_0-rmse:92.14264\n",
            "[88]\tvalidation_0-rmse:92.05441\n",
            "[89]\tvalidation_0-rmse:92.20334\n",
            "[90]\tvalidation_0-rmse:92.17180\n",
            "[91]\tvalidation_0-rmse:92.14123\n",
            "[92]\tvalidation_0-rmse:92.14310\n",
            "[93]\tvalidation_0-rmse:92.08342\n",
            "[94]\tvalidation_0-rmse:92.07290\n",
            "[95]\tvalidation_0-rmse:92.14500\n",
            "[96]\tvalidation_0-rmse:92.17190\n",
            "[97]\tvalidation_0-rmse:92.18744\n",
            "[98]\tvalidation_0-rmse:92.15975\n",
            "[99]\tvalidation_0-rmse:92.15540\n",
            "91.87478140286652\n"
          ]
        }
      ],
      "source": [
        "model = xgb.XGBRegressor(**best_params)\n",
        "train_prediction_df, test_prediction_df = model_predict(model, train_df, test_df, FEATURE_LIST)"
      ]
    },
    {
      "cell_type": "markdown",
      "metadata": {
        "id": "J0EYl9KtTfo7"
      },
      "source": [
        "### Visualization"
      ]
    },
    {
      "cell_type": "code",
      "execution_count": 34,
      "metadata": {
        "id": "ao6nw8xsRvB9"
      },
      "outputs": [],
      "source": [
        "def prediction_visualization(train_data, test_data, train_prediction_df, test_prediction_df):\n",
        "\n",
        "    train_data['Day_of_year'] = train_data['Date'].dt.dayofyear\n",
        "    test_data['Day_of_year'] = test_data['Date'].dt.dayofyear\n",
        "\n",
        "    predicted_train_df = train_data\n",
        "    predicted_test_df = test_data\n",
        "    predicted_train_df['Predicted'] = train_prediction_df\n",
        "    predicted_test_df['Predicted'] = test_prediction_df\n",
        "\n",
        "    train_data = train_data.groupby('Day_of_year')['Demand'].sum()\n",
        "    test_data = test_data.groupby('Day_of_year')['Demand'].sum()\n",
        "    predicted_train_df = predicted_train_df.groupby('Day_of_year')['Predicted'].sum()\n",
        "    predicted_test_df = predicted_test_df.groupby('Day_of_year')['Predicted'].sum()\n",
        "\n",
        "    plt.title('Train')\n",
        "    plt.plot(train_data)\n",
        "    plt.plot(predicted_train_df)\n",
        "    plt.legend([\"Real Value\", \"Predicted\"], loc =\"lower right\")\n",
        "    plt.show()\n",
        "\n",
        "    plot_length = len(test_data)\n",
        "    plt.title('Test')\n",
        "    plt.plot(test_data)\n",
        "    plt.plot(predicted_test_df)\n",
        "    plt.legend([\"Real Value\", \"Predicted\"], loc =\"lower right\")\n",
        "    plt.show()"
      ]
    },
    {
      "cell_type": "code",
      "execution_count": 35,
      "metadata": {
        "id": "deyLWLmZThMJ",
        "outputId": "4d0094aa-099c-490f-aa82-281ee16bae01"
      },
      "outputs": [
        {
          "name": "stderr",
          "output_type": "stream",
          "text": [
            "C:\\Users\\bardia\\AppData\\Local\\Temp\\ipykernel_4052\\242743045.py:3: SettingWithCopyWarning: \n",
            "A value is trying to be set on a copy of a slice from a DataFrame.\n",
            "Try using .loc[row_indexer,col_indexer] = value instead\n",
            "\n",
            "See the caveats in the documentation: https://pandas.pydata.org/pandas-docs/stable/user_guide/indexing.html#returning-a-view-versus-a-copy\n",
            "  train_data['Day_of_year'] = train_data['Date'].dt.dayofyear\n",
            "C:\\Users\\bardia\\AppData\\Local\\Temp\\ipykernel_4052\\242743045.py:4: SettingWithCopyWarning: \n",
            "A value is trying to be set on a copy of a slice from a DataFrame.\n",
            "Try using .loc[row_indexer,col_indexer] = value instead\n",
            "\n",
            "See the caveats in the documentation: https://pandas.pydata.org/pandas-docs/stable/user_guide/indexing.html#returning-a-view-versus-a-copy\n",
            "  test_data['Day_of_year'] = test_data['Date'].dt.dayofyear\n",
            "C:\\Users\\bardia\\AppData\\Local\\Temp\\ipykernel_4052\\242743045.py:8: SettingWithCopyWarning: \n",
            "A value is trying to be set on a copy of a slice from a DataFrame.\n",
            "Try using .loc[row_indexer,col_indexer] = value instead\n",
            "\n",
            "See the caveats in the documentation: https://pandas.pydata.org/pandas-docs/stable/user_guide/indexing.html#returning-a-view-versus-a-copy\n",
            "  predicted_train_df['Predicted'] = train_prediction_df\n",
            "C:\\Users\\bardia\\AppData\\Local\\Temp\\ipykernel_4052\\242743045.py:9: SettingWithCopyWarning: \n",
            "A value is trying to be set on a copy of a slice from a DataFrame.\n",
            "Try using .loc[row_indexer,col_indexer] = value instead\n",
            "\n",
            "See the caveats in the documentation: https://pandas.pydata.org/pandas-docs/stable/user_guide/indexing.html#returning-a-view-versus-a-copy\n",
            "  predicted_test_df['Predicted'] = test_prediction_df\n"
          ]
        },
        {
          "data": {
            "image/png": "[encoded data removed]",
            "text/plain": [
              "<Figure size 640x480 with 1 Axes>"
            ]
          },
          "metadata": {},
          "output_type": "display_data"
        },
        {
          "data": {
            "image/png": "[encoded data removed]",
            "text/plain": [
              "<Figure size 640x480 with 1 Axes>"
            ]
          },
          "metadata": {},
          "output_type": "display_data"
        }
      ],
      "source": [
        "prediction_visualization(train_df, test_df, train_prediction_df, test_prediction_df)"
      ]
    },
    {
      "cell_type": "markdown",
      "metadata": {
        "id": "lERphf0kTist"
      },
      "source": [
        "### Evaluation"
      ]
    },
    {
      "cell_type": "code",
      "execution_count": 36,
      "metadata": {
        "id": "BcGvcilUWEEC"
      },
      "outputs": [],
      "source": [
        "def evaluate(metric, metric_name, true_values, predicted_values):\n",
        "    print(f'{metric_name} : {metric(true_values, predicted_values)}')"
      ]
    },
    {
      "cell_type": "code",
      "execution_count": 37,
      "metadata": {
        "id": "v4-GWghuSbnA"
      },
      "outputs": [],
      "source": [
        "def evaluation(model_name, train_df, test_df, train_prediction_df, test_prediction_df):\n",
        "    print(f'{model_name} train scores:')\n",
        "\n",
        "    evaluate(mean_absolute_error, 'MAE', train_df['Demand'], train_prediction_df)\n",
        "    evaluate(mean_squared_error, 'MSE', train_df['Demand'], train_prediction_df)\n",
        "    evaluate(mean_absolute_percentage_error, 'MAPE', train_df['Demand'], train_prediction_df)\n",
        "\n",
        "    print(f'\\n{model_name} test scores:')\n",
        "\n",
        "    evaluate(mean_absolute_error, 'MAE', test_df['Demand'], test_prediction_df)\n",
        "    evaluate(mean_squared_error, 'MSE', test_df['Demand'], test_prediction_df)\n",
        "    evaluate(mean_absolute_percentage_error, 'MAPE', test_df['Demand'], test_prediction_df)\n"
      ]
    },
    {
      "cell_type": "code",
      "execution_count": 38,
      "metadata": {
        "id": "qSZwIFprTkqK",
        "outputId": "7ae94952-ec22-410a-9d26-6e05a96af6ab"
      },
      "outputs": [
        {
          "name": "stdout",
          "output_type": "stream",
          "text": [
            "XGB train scores:\n",
            "MAE : 19.696268021587436\n",
            "MSE : 3274.4633942447535\n",
            "MAPE : 1290135894160322.8\n",
            "\n",
            "XGB test scores:\n",
            "MAE : 30.28577501872417\n",
            "MSE : 8492.618011846596\n",
            "MAPE : 1280839299969776.8\n"
          ]
        }
      ],
      "source": [
        "evaluation('XGB', train_df, test_df, train_prediction_df, test_prediction_df)"
      ]
    },
    {
      "cell_type": "markdown",
      "metadata": {
        "id": "_286hlGi7VWD"
      },
      "source": [
        "### Feature Importance and SHAPE"
      ]
    },
    {
      "cell_type": "code",
      "execution_count": 39,
      "metadata": {
        "id": "osueYsNP1NB8",
        "outputId": "b3c13ee6-bd74-4470-a8c5-558df5416e28"
      },
      "outputs": [
        {
          "data": {
            "image/png": "[encoded data removed]",
            "text/plain": [
              "<Figure size 640x480 with 1 Axes>"
            ]
          },
          "metadata": {},
          "output_type": "display_data"
        }
      ],
      "source": [
        "xgb.plot_importance(model)\n",
        "plt.show()"
      ]
    },
    {
      "cell_type": "code",
      "execution_count": 40,
      "metadata": {
        "id": "50CEqbp75Y_i",
        "outputId": "b7288f1d-517a-4707-da22-ad996453f161"
      },
      "outputs": [
        {
          "data": {
            "text/plain": [
              "\"dtrain_reg = xgb.DMatrix(train_df[FEATURE_LIST].values, train_df['Demand'].values, enable_categorical=True)\\n\\nexplainer = shap.TreeExplainer(model)\\nshap_values = explainer.shap_values(dtrain_reg)\\nshap.summary_plot(shap_values, train_df[FEATURE_LIST])\""
            ]
          },
          "execution_count": 40,
          "metadata": {},
          "output_type": "execute_result"
        }
      ],
      "source": [
        "'''dtrain_reg = xgb.DMatrix(train_df[FEATURE_LIST].values, train_df['Demand'].values, enable_categorical=True)\n",
        "\n",
        "explainer = shap.TreeExplainer(model)\n",
        "shap_values = explainer.shap_values(dtrain_reg)\n",
        "shap.summary_plot(shap_values, train_df[FEATURE_LIST])'''"
      ]
    },
    {
      "cell_type": "markdown",
      "metadata": {},
      "source": [
        "# File Saving"
      ]
    },
    {
      "cell_type": "code",
      "execution_count": 41,
      "metadata": {},
      "outputs": [],
      "source": [
        "def save_predictions(dataset, path):\n",
        "    dataset.to_parquet(path, index=False)"
      ]
    },
    {
      "cell_type": "code",
      "execution_count": 42,
      "metadata": {},
      "outputs": [],
      "source": [
        "def prediction_labeling(pred_df, labeled_df):\n",
        "    pred_df = pd.DataFrame(pred_df, columns = ['Predicted_demand'])\n",
        "    labeled_df.reset_index(inplace = True)\n",
        "    labeled_prediction_df = labeled_df[['Location', 'Date']]\n",
        "    labeled_prediction_df['Predicted_demand'] = pred_df\n",
        "    return labeled_prediction_df"
      ]
    },
    {
      "cell_type": "code",
      "execution_count": 43,
      "metadata": {},
      "outputs": [
        {
          "name": "stderr",
          "output_type": "stream",
          "text": [
            "C:\\Users\\bardia\\AppData\\Local\\Temp\\ipykernel_4052\\1857597426.py:5: SettingWithCopyWarning: \n",
            "A value is trying to be set on a copy of a slice from a DataFrame.\n",
            "Try using .loc[row_indexer,col_indexer] = value instead\n",
            "\n",
            "See the caveats in the documentation: https://pandas.pydata.org/pandas-docs/stable/user_guide/indexing.html#returning-a-view-versus-a-copy\n",
            "  labeled_prediction_df['Predicted_demand'] = pred_df\n"
          ]
        }
      ],
      "source": [
        "labeled_prediction_df = prediction_labeling(test_prediction_df, test_df)"
      ]
    },
    {
      "cell_type": "code",
      "execution_count": 44,
      "metadata": {},
      "outputs": [
        {
          "name": "stdout",
          "output_type": "stream",
          "text": [
            "labeled prediction dataframe shape : (7860, 3)\n"
          ]
        },
        {
          "data": {
            "text/html": [
              "<div>\n",
              "<style scoped>\n",
              "    .dataframe tbody tr th:only-of-type {\n",
              "        vertical-align: middle;\n",
              "    }\n",
              "\n",
              "    .dataframe tbody tr th {\n",
              "        vertical-align: top;\n",
              "    }\n",
              "\n",
              "    .dataframe thead th {\n",
              "        text-align: right;\n",
              "    }\n",
              "</style>\n",
              "<table border=\"1\" class=\"dataframe\">\n",
              "  <thead>\n",
              "    <tr style=\"text-align: right;\">\n",
              "      <th></th>\n",
              "      <th>Location</th>\n",
              "      <th>Date</th>\n",
              "      <th>Predicted_demand</th>\n",
              "    </tr>\n",
              "  </thead>\n",
              "  <tbody>\n",
              "    <tr>\n",
              "      <th>0</th>\n",
              "      <td>1</td>\n",
              "      <td>2023-04-01</td>\n",
              "      <td>15.284734</td>\n",
              "    </tr>\n",
              "    <tr>\n",
              "      <th>1</th>\n",
              "      <td>1</td>\n",
              "      <td>2023-04-02</td>\n",
              "      <td>15.286053</td>\n",
              "    </tr>\n",
              "    <tr>\n",
              "      <th>2</th>\n",
              "      <td>1</td>\n",
              "      <td>2023-04-03</td>\n",
              "      <td>11.084869</td>\n",
              "    </tr>\n",
              "    <tr>\n",
              "      <th>3</th>\n",
              "      <td>1</td>\n",
              "      <td>2023-04-04</td>\n",
              "      <td>10.450198</td>\n",
              "    </tr>\n",
              "    <tr>\n",
              "      <th>4</th>\n",
              "      <td>1</td>\n",
              "      <td>2023-04-05</td>\n",
              "      <td>11.863209</td>\n",
              "    </tr>\n",
              "  </tbody>\n",
              "</table>\n",
              "</div>"
            ],
            "text/plain": [
              "   Location       Date  Predicted_demand\n",
              "0         1 2023-04-01         15.284734\n",
              "1         1 2023-04-02         15.286053\n",
              "2         1 2023-04-03         11.084869\n",
              "3         1 2023-04-04         10.450198\n",
              "4         1 2023-04-05         11.863209"
            ]
          },
          "execution_count": 44,
          "metadata": {},
          "output_type": "execute_result"
        }
      ],
      "source": [
        "print(f'labeled prediction dataframe shape : {labeled_prediction_df.shape}')\n",
        "labeled_prediction_df.head()"
      ]
    },
    {
      "cell_type": "code",
      "execution_count": 45,
      "metadata": {},
      "outputs": [],
      "source": [
        "save_predictions(labeled_prediction_df, OUTPUT_PATH)"
      ]
    }
  ],
  "metadata": {
    "colab": {
      "collapsed_sections": [
        "X2ES_CY6-fb5"
      ],
      "provenance": [],
      "toc_visible": true
    },
    "kernelspec": {
      "display_name": "Python 3",
      "name": "python3"
    },
    "language_info": {
      "codemirror_mode": {
        "name": "ipython",
        "version": 3
      },
      "file_extension": ".py",
      "mimetype": "text/x-python",
      "name": "python",
      "nbconvert_exporter": "python",
      "pygments_lexer": "ipython3",
      "version": "3.10.7"
    }
  },
  "nbformat": 4,
  "nbformat_minor": 0
}
